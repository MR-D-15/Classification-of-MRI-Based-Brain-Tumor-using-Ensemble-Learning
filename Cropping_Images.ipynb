{
  "nbformat": 4,
  "nbformat_minor": 0,
  "metadata": {
    "colab": {
      "provenance": []
    },
    "kernelspec": {
      "name": "python3",
      "display_name": "Python 3"
    },
    "language_info": {
      "name": "python"
    },
    "gpuClass": "standard"
  },
  "cells": [
    {
      "cell_type": "code",
      "source": [
        "import numpy as np \n",
        "from tqdm import tqdm\n",
        "import cv2\n",
        "import os\n",
        "import imutils"
      ],
      "metadata": {
        "id": "fapUQ7pE13IT"
      },
      "execution_count": null,
      "outputs": []
    },
    {
      "cell_type": "code",
      "execution_count": null,
      "metadata": {
        "id": "aG-b7SNK1V1E",
        "colab": {
          "base_uri": "https://localhost:8080/"
        },
        "outputId": "e3869270-9ebd-4c5c-d231-1eca20ea2d68"
      },
      "outputs": [
        {
          "output_type": "stream",
          "name": "stdout",
          "text": [
            "Mounted at /content/drive\n"
          ]
        }
      ],
      "source": [
        "from google.colab import drive\n",
        "drive.mount('/content/drive')"
      ]
    },
    {
      "cell_type": "code",
      "source": [
        "def crop_img(img):\n",
        "\t\n",
        "\tgray = cv2.cvtColor(img, cv2.COLOR_RGB2GRAY)\n",
        "\tgray = cv2.GaussianBlur(gray, (3, 3), 0)\n",
        "\n",
        "\tthresh = cv2.threshold(gray, 45, 255, cv2.THRESH_BINARY)[1]\n",
        "\tthresh = cv2.erode(thresh, None, iterations=2)\n",
        "\tthresh = cv2.dilate(thresh, None, iterations=2)\n",
        "\n",
        "\tcnts = cv2.findContours(thresh.copy(), cv2.RETR_EXTERNAL, cv2.CHAIN_APPROX_SIMPLE)\n",
        "\tcnts = imutils.grab_contours(cnts)\n",
        "\tc = max(cnts, key=cv2.contourArea)\n",
        "\n",
        "\textLeft = tuple(c[c[:, :, 0].argmin()][0])\n",
        "\textRight = tuple(c[c[:, :, 0].argmax()][0])\n",
        "\textTop = tuple(c[c[:, :, 1].argmin()][0])\n",
        "\textBot = tuple(c[c[:, :, 1].argmax()][0])\n",
        "\tADD_PIXELS = 0\n",
        "\tnew_img = img[extTop[1]-ADD_PIXELS:extBot[1]+ADD_PIXELS, extLeft[0]-ADD_PIXELS:extRight[0]+ADD_PIXELS].copy()\n",
        "\t\n",
        "\treturn new_img\n",
        "\t\n",
        "if __name__ == \"__main__\":\n",
        "\ttraining = \"/content/drive/MyDrive/Training\"\n",
        "\ttesting = \"/content/drive/MyDrive/Testing\"\n",
        "\ttraining_dir = os.listdir(training)\n",
        "\ttesting_dir = os.listdir(testing)\n",
        "\tIMG_SIZE = 256\n",
        "\n",
        "\tfor dir in training_dir:\n",
        "\t\tsave_path = '/content/drive/MyDrive/Training_Datasets_B/'+ dir\n",
        "\t\tpath = os.path.join(training,dir)\n",
        "\t\timage_dir = os.listdir(path)\n",
        "\t\tfor img in image_dir:\n",
        "\t\t\timage = cv2.imread(os.path.join(path,img))\n",
        "\t\t\tnew_img = crop_img(image)\n",
        "\t\t\tnew_img = cv2.resize(new_img,(IMG_SIZE,IMG_SIZE))\n",
        "\t\t\tif not os.path.exists(save_path):\n",
        "\t\t\t\tos.makedirs(save_path)\n",
        "\t\t\tcv2.imwrite(save_path+'/'+img, new_img)\n",
        "\t\n",
        "\tfor dir in testing_dir:\n",
        "\t\tsave_path = '/content/drive/MyDrive/Testing_Datasets_B/'+ dir\n",
        "\t\tpath = os.path.join(testing,dir)\n",
        "\t\timage_dir = os.listdir(path)\n",
        "\t\tfor img in image_dir:\n",
        "\t\t\timage = cv2.imread(os.path.join(path,img))\n",
        "\t\t\tnew_img = crop_img(image)\n",
        "\t\t\tnew_img = cv2.resize(new_img,(IMG_SIZE,IMG_SIZE))\n",
        "\t\t\tif not os.path.exists(save_path):\n",
        "\t\t\t\tos.makedirs(save_path)\n",
        "\t\t\tcv2.imwrite(save_path+'/'+img, new_img)"
      ],
      "metadata": {
        "id": "Q2mf_VXD1dVy"
      },
      "execution_count": null,
      "outputs": []
    }
  ]
}